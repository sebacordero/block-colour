{
 "cells": [
  {
   "cell_type": "code",
   "execution_count": 2,
   "id": "f53848af",
   "metadata": {},
   "outputs": [
    {
     "name": "stdout",
     "output_type": "stream",
     "text": [
      "Archivo CSV creado correctamente.\n"
     ]
    }
   ],
   "source": [
    "import requests\n",
    "from bs4 import BeautifulSoup\n",
    "import csv\n",
    "\n",
    "# Realizar la solicitud HTTP a la página\n",
    "url = 'https://coolors.co/colors'\n",
    "response = requests.get(url)\n",
    "\n",
    "# Crear un objeto BeautifulSoup con el contenido HTML de la página\n",
    "soup = BeautifulSoup(response.text, 'html.parser')\n",
    "\n",
    "# Encontrar todos los elementos <div> que contienen los códigos de color y nombres\n",
    "color_codes = soup.select('div.color-card_color span')\n",
    "color_names = soup.select('div.color-card_info a.color-card_name')\n",
    "\n",
    "# Crear una lista para almacenar los datos\n",
    "data = []\n",
    "\n",
    "# Iterar sobre los elementos y extraer los códigos de color y nombres\n",
    "for code, name in zip(color_codes, color_names):\n",
    "    color_code = code.text\n",
    "    color_name = name.text\n",
    "    data.append([color_code, color_name])\n",
    "\n",
    "# Escribir los datos en un archivo CSV\n",
    "with open('paleta_colores.csv', 'w', newline='') as csvfile:\n",
    "    writer = csv.writer(csvfile)\n",
    "    writer.writerow(['Color Code', 'Color Name'])  # Escribir la fila de encabezado\n",
    "    writer.writerows(data)  # Escribir los datos\n",
    "\n",
    "print(\"Archivo CSV creado correctamente.\")\n"
   ]
  },
  {
   "cell_type": "code",
   "execution_count": null,
   "id": "d44e0347",
   "metadata": {},
   "outputs": [],
   "source": []
  }
 ],
 "metadata": {
  "kernelspec": {
   "display_name": "Python 3 (ipykernel)",
   "language": "python",
   "name": "python3"
  },
  "language_info": {
   "codemirror_mode": {
    "name": "ipython",
    "version": 3
   },
   "file_extension": ".py",
   "mimetype": "text/x-python",
   "name": "python",
   "nbconvert_exporter": "python",
   "pygments_lexer": "ipython3",
   "version": "3.9.12"
  }
 },
 "nbformat": 4,
 "nbformat_minor": 5
}
